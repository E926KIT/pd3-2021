{
 "cells": [
  {
   "cell_type": "markdown",
   "id": "e644dfe4",
   "metadata": {},
   "source": [
    "## https://pypi.org/project/transformers/ より"
   ]
  },
  {
   "cell_type": "code",
   "execution_count": 1,
   "id": "d66eb2b4",
   "metadata": {},
   "outputs": [
    {
     "data": {
      "text/plain": [
       "[{'label': 'POSITIVE', 'score': 0.9996980428695679}]"
      ]
     },
     "execution_count": 1,
     "metadata": {},
     "output_type": "execute_result"
    }
   ],
   "source": [
    "from transformers import pipeline\n",
    "\n",
    "classifier = pipeline('sentiment-analysis')\n",
    "classifier('We are very happy to introduce pipeline to the transformers repository.')"
   ]
  },
  {
   "cell_type": "code",
   "execution_count": 2,
   "id": "1a492092",
   "metadata": {},
   "outputs": [
    {
     "data": {
      "text/plain": [
       "{'score': 0.309702068567276,\n",
       " 'start': 34,\n",
       " 'end': 58,\n",
       " 'answer': 'huggingface/transformers'}"
      ]
     },
     "execution_count": 2,
     "metadata": {},
     "output_type": "execute_result"
    }
   ],
   "source": [
    "question_answerer = pipeline('question-answering')\n",
    "question_answerer({\n",
    "    'question': 'What is the name of the repository ?',\n",
    "    'context': 'Pipeline has been included in the huggingface/transformers repository'})"
   ]
  },
  {
   "cell_type": "code",
   "execution_count": 3,
   "id": "96f5b694",
   "metadata": {},
   "outputs": [
    {
     "name": "stderr",
     "output_type": "stream",
     "text": [
      "Some weights of the model checkpoint at bert-base-uncased were not used when initializing BertModel: ['cls.predictions.transform.LayerNorm.weight', 'cls.seq_relationship.weight', 'cls.predictions.transform.LayerNorm.bias', 'cls.seq_relationship.bias', 'cls.predictions.transform.dense.weight', 'cls.predictions.decoder.weight', 'cls.predictions.transform.dense.bias', 'cls.predictions.bias']\n",
      "- This IS expected if you are initializing BertModel from the checkpoint of a model trained on another task or with another architecture (e.g. initializing a BertForSequenceClassification model from a BertForPreTraining model).\n",
      "- This IS NOT expected if you are initializing BertModel from the checkpoint of a model that you expect to be exactly identical (initializing a BertForSequenceClassification model from a BertForSequenceClassification model).\n"
     ]
    },
    {
     "data": {
      "text/plain": [
       "transformers.modeling_outputs.BaseModelOutputWithPoolingAndCrossAttentions"
      ]
     },
     "execution_count": 3,
     "metadata": {},
     "output_type": "execute_result"
    }
   ],
   "source": [
    "from transformers import AutoTokenizer, AutoModel\n",
    "\n",
    "tokenizer = AutoTokenizer.from_pretrained('bert-base-uncased')\n",
    "model = AutoModel.from_pretrained('bert-base-uncased')\n",
    "\n",
    "inputs = tokenizer('Hello world!', return_tensors='pt')\n",
    "outputs = model(**inputs)\n",
    "type(outputs)"
   ]
  },
  {
   "cell_type": "markdown",
   "id": "d4d490c7",
   "metadata": {},
   "source": [
    "## https://www.analyticsvidhya.com/blog/2021/05/implementing-transformers-in-nlp-under-5-lines-of-codes/ より\n",
    "### 文章の分類"
   ]
  },
  {
   "cell_type": "code",
   "execution_count": 4,
   "id": "7fbe67c8",
   "metadata": {},
   "outputs": [
    {
     "data": {
      "application/vnd.jupyter.widget-view+json": {
       "model_id": "2acb5bbfbf35480f8a3fa030b815117e",
       "version_major": 2,
       "version_minor": 0
      },
      "text/plain": [
       "Downloading:   0%|          | 0.00/953 [00:00<?, ?B/s]"
      ]
     },
     "metadata": {},
     "output_type": "display_data"
    },
    {
     "data": {
      "application/vnd.jupyter.widget-view+json": {
       "model_id": "9d0ca85b2cee477086f467e46767d415",
       "version_major": 2,
       "version_minor": 0
      },
      "text/plain": [
       "Downloading:   0%|          | 0.00/669M [00:00<?, ?B/s]"
      ]
     },
     "metadata": {},
     "output_type": "display_data"
    },
    {
     "data": {
      "application/vnd.jupyter.widget-view+json": {
       "model_id": "ee6020968391454897dfce70fa82f6e0",
       "version_major": 2,
       "version_minor": 0
      },
      "text/plain": [
       "Downloading:   0%|          | 0.00/872k [00:00<?, ?B/s]"
      ]
     },
     "metadata": {},
     "output_type": "display_data"
    },
    {
     "data": {
      "application/vnd.jupyter.widget-view+json": {
       "model_id": "190758c3d3a54302be0c6c2773c63b14",
       "version_major": 2,
       "version_minor": 0
      },
      "text/plain": [
       "Downloading:   0%|          | 0.00/112 [00:00<?, ?B/s]"
      ]
     },
     "metadata": {},
     "output_type": "display_data"
    },
    {
     "data": {
      "application/vnd.jupyter.widget-view+json": {
       "model_id": "1241b6e6d7f746278cb7fc26834a7af3",
       "version_major": 2,
       "version_minor": 0
      },
      "text/plain": [
       "Downloading:   0%|          | 0.00/39.0 [00:00<?, ?B/s]"
      ]
     },
     "metadata": {},
     "output_type": "display_data"
    },
    {
     "data": {
      "text/plain": [
       "[{'label': '2 stars', 'score': 0.41392043232917786}]"
      ]
     },
     "execution_count": 4,
     "metadata": {},
     "output_type": "execute_result"
    }
   ],
   "source": [
    "st = 'I do not like horror movies'\n",
    "seq = pipeline(task='text-classification', model='nlptown/bert-base-multilingual-uncased-sentiment')\n",
    "seq(st)"
   ]
  },
  {
   "cell_type": "markdown",
   "id": "235c212d",
   "metadata": {},
   "source": [
    "### 質問応答"
   ]
  },
  {
   "cell_type": "code",
   "execution_count": 5,
   "id": "319f1e5f",
   "metadata": {},
   "outputs": [
    {
     "data": {
      "application/vnd.jupyter.widget-view+json": {
       "model_id": "38f430e347444edd82458022b01a38f6",
       "version_major": 2,
       "version_minor": 0
      },
      "text/plain": [
       "Downloading:   0%|          | 0.00/525 [00:00<?, ?B/s]"
      ]
     },
     "metadata": {},
     "output_type": "display_data"
    },
    {
     "data": {
      "application/vnd.jupyter.widget-view+json": {
       "model_id": "30c2cccfd63d4f59809eb6a3d1995148",
       "version_major": 2,
       "version_minor": 0
      },
      "text/plain": [
       "Downloading:   0%|          | 0.00/499M [00:00<?, ?B/s]"
      ]
     },
     "metadata": {},
     "output_type": "display_data"
    },
    {
     "data": {
      "application/vnd.jupyter.widget-view+json": {
       "model_id": "3b950ee56e3e4345ae646a63b4baa342",
       "version_major": 2,
       "version_minor": 0
      },
      "text/plain": [
       "Downloading:   0%|          | 0.00/899k [00:00<?, ?B/s]"
      ]
     },
     "metadata": {},
     "output_type": "display_data"
    },
    {
     "data": {
      "application/vnd.jupyter.widget-view+json": {
       "model_id": "bb1f05c0fc8546a88cbcec485fa6fbde",
       "version_major": 2,
       "version_minor": 0
      },
      "text/plain": [
       "Downloading:   0%|          | 0.00/456k [00:00<?, ?B/s]"
      ]
     },
     "metadata": {},
     "output_type": "display_data"
    },
    {
     "data": {
      "application/vnd.jupyter.widget-view+json": {
       "model_id": "456b71a829b64ca0b4fa5517396a3c8c",
       "version_major": 2,
       "version_minor": 0
      },
      "text/plain": [
       "Downloading:   0%|          | 0.00/772 [00:00<?, ?B/s]"
      ]
     },
     "metadata": {},
     "output_type": "display_data"
    },
    {
     "data": {
      "application/vnd.jupyter.widget-view+json": {
       "model_id": "16811ab39ca64853b3b68e8e870e662b",
       "version_major": 2,
       "version_minor": 0
      },
      "text/plain": [
       "Downloading:   0%|          | 0.00/49.0 [00:00<?, ?B/s]"
      ]
     },
     "metadata": {},
     "output_type": "display_data"
    },
    {
     "data": {
      "text/plain": [
       "'her sister'"
      ]
     },
     "execution_count": 5,
     "metadata": {},
     "output_type": "execute_result"
    }
   ],
   "source": [
    "sentence = r'''\n",
    "Alice was beginning to get very tired of sitting by her sister on the bank, and of having nothing to do:\n",
    "once or twice she had peeped into the book her sister was reading, but it had no pictures or conversations \n",
    "in it, “and what is the use of a book,” thought Alice “without pictures or conversations?” So she was\n",
    "considering in her own mind (as well as she could, for the hot day made her feel very sleepy and stupid),\n",
    "whether the pleasure of making a daisy chain would be worth the trouble of getting up and picking the daisies,\n",
    "when suddenly a White Rabbit with pink eyes ran close by her.\n",
    "'''\n",
    "output = pipeline('question-answering', model='csarron/roberta-base-squad-v1')\n",
    "question = output(question='Who was reading a book?', context=sentence)\n",
    "question['answer']"
   ]
  },
  {
   "cell_type": "markdown",
   "id": "02ada1a4",
   "metadata": {},
   "source": [
    "### 文章の穴埋め"
   ]
  },
  {
   "cell_type": "code",
   "execution_count": 6,
   "id": "b1c0bc0a",
   "metadata": {},
   "outputs": [
    {
     "data": {
      "application/vnd.jupyter.widget-view+json": {
       "model_id": "18bd930b86f64e86a517955fb7def5d9",
       "version_major": 2,
       "version_minor": 0
      },
      "text/plain": [
       "Downloading:   0%|          | 0.00/480 [00:00<?, ?B/s]"
      ]
     },
     "metadata": {},
     "output_type": "display_data"
    },
    {
     "data": {
      "application/vnd.jupyter.widget-view+json": {
       "model_id": "7dc5f1c27453481bb85bf92e1e6c8526",
       "version_major": 2,
       "version_minor": 0
      },
      "text/plain": [
       "Downloading:   0%|          | 0.00/331M [00:00<?, ?B/s]"
      ]
     },
     "metadata": {},
     "output_type": "display_data"
    },
    {
     "data": {
      "application/vnd.jupyter.widget-view+json": {
       "model_id": "b51c97219dfe4c47bf3c32084a33590f",
       "version_major": 2,
       "version_minor": 0
      },
      "text/plain": [
       "Downloading:   0%|          | 0.00/899k [00:00<?, ?B/s]"
      ]
     },
     "metadata": {},
     "output_type": "display_data"
    },
    {
     "data": {
      "application/vnd.jupyter.widget-view+json": {
       "model_id": "9ca8f8e5ebaf4bd8958c3872f115857a",
       "version_major": 2,
       "version_minor": 0
      },
      "text/plain": [
       "Downloading:   0%|          | 0.00/456k [00:00<?, ?B/s]"
      ]
     },
     "metadata": {},
     "output_type": "display_data"
    },
    {
     "data": {
      "application/vnd.jupyter.widget-view+json": {
       "model_id": "498ab5fc75ef4328991788c8a16163b8",
       "version_major": 2,
       "version_minor": 0
      },
      "text/plain": [
       "Downloading:   0%|          | 0.00/1.36M [00:00<?, ?B/s]"
      ]
     },
     "metadata": {},
     "output_type": "display_data"
    },
    {
     "data": {
      "text/plain": [
       "[{'sequence': ' Horror movies are often very scary to people',\n",
       "  'score': 0.12314239889383316,\n",
       "  'token': 28719,\n",
       "  'token_str': ' Horror'},\n",
       " {'sequence': ' horror movies are often very scary to people',\n",
       "  'score': 0.05246889963746071,\n",
       "  'token': 8444,\n",
       "  'token_str': ' horror'},\n",
       " {'sequence': 'Ghost movies are often very scary to people',\n",
       "  'score': 0.05243458226323128,\n",
       "  'token': 38856,\n",
       "  'token_str': 'Ghost'},\n",
       " {'sequence': 'War movies are often very scary to people',\n",
       "  'score': 0.03345341980457306,\n",
       "  'token': 20096,\n",
       "  'token_str': 'War'},\n",
       " {'sequence': 'Action movies are often very scary to people',\n",
       "  'score': 0.029487790539860725,\n",
       "  'token': 36082,\n",
       "  'token_str': 'Action'}]"
      ]
     },
     "execution_count": 6,
     "metadata": {},
     "output_type": "execute_result"
    }
   ],
   "source": [
    "nlp = pipeline('fill-mask')\n",
    "nlp(f'{nlp.tokenizer.mask_token} movies are often very scary to people')"
   ]
  },
  {
   "cell_type": "markdown",
   "id": "9d6064b2",
   "metadata": {},
   "source": [
    "### 文章生成"
   ]
  },
  {
   "cell_type": "code",
   "execution_count": 7,
   "id": "23962564",
   "metadata": {},
   "outputs": [
    {
     "data": {
      "application/vnd.jupyter.widget-view+json": {
       "model_id": "dd73655ac4884599b27fd960f547c6e3",
       "version_major": 2,
       "version_minor": 0
      },
      "text/plain": [
       "Downloading:   0%|          | 0.00/665 [00:00<?, ?B/s]"
      ]
     },
     "metadata": {},
     "output_type": "display_data"
    },
    {
     "data": {
      "application/vnd.jupyter.widget-view+json": {
       "model_id": "b1efb59ae0fc4c9d91eec18c8b973bf0",
       "version_major": 2,
       "version_minor": 0
      },
      "text/plain": [
       "Downloading:   0%|          | 0.00/548M [00:00<?, ?B/s]"
      ]
     },
     "metadata": {},
     "output_type": "display_data"
    },
    {
     "data": {
      "application/vnd.jupyter.widget-view+json": {
       "model_id": "13e0d659931144c49e1ce6ed2ddb5568",
       "version_major": 2,
       "version_minor": 0
      },
      "text/plain": [
       "Downloading:   0%|          | 0.00/1.04M [00:00<?, ?B/s]"
      ]
     },
     "metadata": {},
     "output_type": "display_data"
    },
    {
     "data": {
      "application/vnd.jupyter.widget-view+json": {
       "model_id": "ed223774388f47a0a38937b1efe03e66",
       "version_major": 2,
       "version_minor": 0
      },
      "text/plain": [
       "Downloading:   0%|          | 0.00/456k [00:00<?, ?B/s]"
      ]
     },
     "metadata": {},
     "output_type": "display_data"
    },
    {
     "data": {
      "application/vnd.jupyter.widget-view+json": {
       "model_id": "ef3b272062244988bccaba2ce2ab556c",
       "version_major": 2,
       "version_minor": 0
      },
      "text/plain": [
       "Downloading:   0%|          | 0.00/1.36M [00:00<?, ?B/s]"
      ]
     },
     "metadata": {},
     "output_type": "display_data"
    },
    {
     "name": "stderr",
     "output_type": "stream",
     "text": [
      "Setting `pad_token_id` to `eos_token_id`:50256 for open-end generation.\n"
     ]
    },
    {
     "data": {
      "text/plain": [
       "[{'generated_text': 'My name is Fernando, I am from Mexico and I am just 18 in December. I have 2 years old, no car. My parents only have'},\n",
       " {'generated_text': \"My name is Fernando, I am from Mexico and I have three daughters. My kids are both 3 years old and one of my sister's children,\"},\n",
       " {'generated_text': \"My name is Fernando, I am from Mexico and I was born at 15 degrees C, I'm a 12-year-old boy. As you\"},\n",
       " {'generated_text': \"My name is Fernando, I am from Mexico and am Brazilian. I was a 17 years old. I do not speak any Portuguese. I don't\"},\n",
       " {'generated_text': 'My name is Fernando, I am from Mexico and I am from Sinaloa\".\\n\\n\"I have a good family and I just want to'}]"
      ]
     },
     "execution_count": 7,
     "metadata": {},
     "output_type": "execute_result"
    }
   ],
   "source": [
    "nlp = pipeline(task='text-generation', model='gpt2')\n",
    "nlp('My name is Fernando, I am from Mexico and', max_length=30, num_return_sequences=5)"
   ]
  },
  {
   "cell_type": "markdown",
   "id": "ba0323a8",
   "metadata": {},
   "source": [
    "### 固有表現抽出 (Named Entity Recognition)"
   ]
  },
  {
   "cell_type": "code",
   "execution_count": 8,
   "id": "eb0ca42e",
   "metadata": {},
   "outputs": [
    {
     "data": {
      "application/vnd.jupyter.widget-view+json": {
       "model_id": "fe0f234a33534a249e54f4f1d592817c",
       "version_major": 2,
       "version_minor": 0
      },
      "text/plain": [
       "Downloading:   0%|          | 0.00/998 [00:00<?, ?B/s]"
      ]
     },
     "metadata": {},
     "output_type": "display_data"
    },
    {
     "data": {
      "application/vnd.jupyter.widget-view+json": {
       "model_id": "f324f00a235740b5b84a67e9ae20083d",
       "version_major": 2,
       "version_minor": 0
      },
      "text/plain": [
       "Downloading:   0%|          | 0.00/1.33G [00:00<?, ?B/s]"
      ]
     },
     "metadata": {},
     "output_type": "display_data"
    },
    {
     "data": {
      "application/vnd.jupyter.widget-view+json": {
       "model_id": "2548605384b14ca19f8fe3dc58e4abec",
       "version_major": 2,
       "version_minor": 0
      },
      "text/plain": [
       "Downloading:   0%|          | 0.00/213k [00:00<?, ?B/s]"
      ]
     },
     "metadata": {},
     "output_type": "display_data"
    },
    {
     "data": {
      "application/vnd.jupyter.widget-view+json": {
       "model_id": "833a78d0a04c4e61b963f2aeeac7ed6c",
       "version_major": 2,
       "version_minor": 0
      },
      "text/plain": [
       "Downloading:   0%|          | 0.00/60.0 [00:00<?, ?B/s]"
      ]
     },
     "metadata": {},
     "output_type": "display_data"
    },
    {
     "name": "stdout",
     "output_type": "stream",
     "text": [
      "('Fernando', 'I-PER')\n",
      "('Mexico', 'I-LOC')\n",
      "('Learning', 'I-ORG')\n",
      "('Engineer', 'I-MISC')\n",
      "('Hit', 'I-ORG')\n",
      "('##ch', 'I-ORG')\n"
     ]
    }
   ],
   "source": [
    "seq = 'I am Fernando, and I live in Mexico. I am a Machine Learning Engineer, and I work at Hitch.'\n",
    "nlp = pipeline(task='ner')\n",
    "for item in nlp(seq):\n",
    "    print(f\"{item['word'], item['entity']}\")"
   ]
  },
  {
   "cell_type": "markdown",
   "id": "03ac0dac",
   "metadata": {},
   "source": [
    "### 文章要約"
   ]
  },
  {
   "cell_type": "code",
   "execution_count": 9,
   "id": "f312ce34",
   "metadata": {},
   "outputs": [
    {
     "data": {
      "application/vnd.jupyter.widget-view+json": {
       "model_id": "ea7bc03f04b9402f82d90cdb412a2541",
       "version_major": 2,
       "version_minor": 0
      },
      "text/plain": [
       "Downloading:   0%|          | 0.00/1.65k [00:00<?, ?B/s]"
      ]
     },
     "metadata": {},
     "output_type": "display_data"
    },
    {
     "data": {
      "application/vnd.jupyter.widget-view+json": {
       "model_id": "cc30c63e7af844ac8cea6975dac16a43",
       "version_major": 2,
       "version_minor": 0
      },
      "text/plain": [
       "Downloading:   0%|          | 0.00/1.22G [00:00<?, ?B/s]"
      ]
     },
     "metadata": {},
     "output_type": "display_data"
    },
    {
     "data": {
      "application/vnd.jupyter.widget-view+json": {
       "model_id": "d24ff9d329754801b098a61a989a02c0",
       "version_major": 2,
       "version_minor": 0
      },
      "text/plain": [
       "Downloading:   0%|          | 0.00/899k [00:00<?, ?B/s]"
      ]
     },
     "metadata": {},
     "output_type": "display_data"
    },
    {
     "data": {
      "application/vnd.jupyter.widget-view+json": {
       "model_id": "ca8f8be17ea14074bd770debcf2b8454",
       "version_major": 2,
       "version_minor": 0
      },
      "text/plain": [
       "Downloading:   0%|          | 0.00/456k [00:00<?, ?B/s]"
      ]
     },
     "metadata": {},
     "output_type": "display_data"
    },
    {
     "data": {
      "application/vnd.jupyter.widget-view+json": {
       "model_id": "6119bf7e60014e40be02d36f3dbbf206",
       "version_major": 2,
       "version_minor": 0
      },
      "text/plain": [
       "Downloading:   0%|          | 0.00/26.0 [00:00<?, ?B/s]"
      ]
     },
     "metadata": {},
     "output_type": "display_data"
    },
    {
     "data": {
      "text/plain": [
       "[{'summary_text': ' Machine learning is the study of computer algorithms that improve automatically through experience and the use of data . Machine learning, deep learning, and neural networks are all sub-fields of artificial intelligence . As big data continues to grow, demand for data scientists will increase .'}]"
      ]
     },
     "execution_count": 9,
     "metadata": {},
     "output_type": "execute_result"
    }
   ],
   "source": [
    "txt = r'''\n",
    "Machine learning is the study of computer algorithms that improve automatically through experience and\n",
    "by the use of data. It is seen as a part of artificial intelligence. Machine learning is an important\n",
    "component of the growing field of data science . Machine learning, deep learning, and neural networks\n",
    "are all sub-fields of artificial intelligence . As big data continues to grow, the market demand for\n",
    "data scientists will increase, requiring them to assist in the identification of the most relevant\n",
    "business questions. Machine learning is a method of data analysis that automates analytical model building.\n",
    "It is a branch of artificial intelligence based on the idea that systems can learn from data, identify\n",
    "patterns and make decisions with minimal human intervention.\n",
    "'''\n",
    "nlp = pipeline(task='summarization')\n",
    "nlp(txt, max_length=130, min_length=30)"
   ]
  },
  {
   "cell_type": "markdown",
   "id": "e7a21e5d",
   "metadata": {},
   "source": [
    "### 機械翻訳（英語→フランス語）"
   ]
  },
  {
   "cell_type": "code",
   "execution_count": 10,
   "id": "4ebf88d9",
   "metadata": {},
   "outputs": [
    {
     "data": {
      "application/vnd.jupyter.widget-view+json": {
       "model_id": "a48c5e1c4f96436099638a71ba456844",
       "version_major": 2,
       "version_minor": 0
      },
      "text/plain": [
       "Downloading:   0%|          | 0.00/1.20k [00:00<?, ?B/s]"
      ]
     },
     "metadata": {},
     "output_type": "display_data"
    },
    {
     "data": {
      "application/vnd.jupyter.widget-view+json": {
       "model_id": "2678e410da2143b08d00f978836a048c",
       "version_major": 2,
       "version_minor": 0
      },
      "text/plain": [
       "Downloading:   0%|          | 0.00/892M [00:00<?, ?B/s]"
      ]
     },
     "metadata": {},
     "output_type": "display_data"
    },
    {
     "data": {
      "application/vnd.jupyter.widget-view+json": {
       "model_id": "2131e864fcd24786bbcb7368c496b706",
       "version_major": 2,
       "version_minor": 0
      },
      "text/plain": [
       "Downloading:   0%|          | 0.00/792k [00:00<?, ?B/s]"
      ]
     },
     "metadata": {},
     "output_type": "display_data"
    },
    {
     "data": {
      "application/vnd.jupyter.widget-view+json": {
       "model_id": "0075725f86bb491fbd06a8cc3cbac7b2",
       "version_major": 2,
       "version_minor": 0
      },
      "text/plain": [
       "Downloading:   0%|          | 0.00/1.39M [00:00<?, ?B/s]"
      ]
     },
     "metadata": {},
     "output_type": "display_data"
    },
    {
     "data": {
      "text/plain": [
       "'L’apprentissage automatique est une branche de l’intelligence artificielle (AI) et de la science informatique qui se concentre sur l’utilisation de données et d’algorithmes pour imiter la façon dont les humains apprennent, en améliorant progressivement leur précision.'"
      ]
     },
     "execution_count": 10,
     "metadata": {},
     "output_type": "execute_result"
    }
   ],
   "source": [
    "txt = r'''\n",
    "Machine learning is a branch of artificial intelligence (AI) and computer sciencewhich focuses on the use\n",
    "of data and algorithms to imitate the way that humans learn,gradually improving its accuracy\n",
    "'''\n",
    "nlp = pipeline(task='translation_en_to_fr')\n",
    "nlp(txt)[0]['translation_text']"
   ]
  },
  {
   "cell_type": "code",
   "execution_count": null,
   "id": "5b8bb8c9",
   "metadata": {},
   "outputs": [],
   "source": []
  }
 ],
 "metadata": {
  "kernelspec": {
   "display_name": "Python 3",
   "language": "python",
   "name": "python3"
  },
  "language_info": {
   "codemirror_mode": {
    "name": "ipython",
    "version": 3
   },
   "file_extension": ".py",
   "mimetype": "text/x-python",
   "name": "python",
   "nbconvert_exporter": "python",
   "pygments_lexer": "ipython3",
   "version": "3.9.5"
  }
 },
 "nbformat": 4,
 "nbformat_minor": 5
}
